{
 "cells": [
  {
   "cell_type": "code",
   "execution_count": null,
   "id": "a972aac1",
   "metadata": {},
   "outputs": [],
   "source": [
    "import pandas as pd\n",
    "import matplotlib.pyplot as plt\n",
    "import matplotlib\n",
    "import numpy as np\n",
    "\n",
    "file = \"/Users/bryna/Downloads/2025_autumn_CSE_583_A_students.csv\""
   ]
  },
  {
   "cell_type": "code",
   "execution_count": null,
   "id": "4866d1ae",
   "metadata": {},
   "outputs": [],
   "source": [
    "df = pd.read_csv(file)\n",
    "df.columns"
   ]
  },
  {
   "cell_type": "code",
   "execution_count": null,
   "id": "a0624706",
   "metadata": {},
   "outputs": [],
   "source": [
    "majors = df[\"Major\"].copy()\n",
    "major_replace_dict = {\n",
    "    \"Mechanical Engineering\": \"Mechanical Engineering\",\n",
    "    \"Applied Mathematics\": \"Applied Mathematics\",\n",
    "    \"Statistics\": \"Statistics\",\n",
    "    \"Ecology & Resource Mgmt\": \"Ecology & Resource Mgmt\",\n",
    "    \"Health Economics and Outcomes\": \"Health Economics and Outcomes\",\n",
    "    \"Finance & Risk Management\": \"Finance & Risk Management\",\n",
    "    \"Molecular and Cellular Biology\": \"Molecular and Cellular Biology\",\n",
    "    \"Demographic Methods, Sociology\": \"Sociology & Demography\",\n",
    "    \"Biomedical and Health Informatics\":\"Biomedical and Health Informatics\"\n",
    "}\n",
    "for key, val in major_replace_dict.items():\n",
    "    majors[majors.str.contains(key)] = val\n",
    "\n",
    "major_hist = pd.DataFrame(majors.value_counts())"
   ]
  },
  {
   "cell_type": "code",
   "execution_count": null,
   "id": "f39d62eb",
   "metadata": {},
   "outputs": [],
   "source": [
    "major_hist = major_hist.sort_values(by=[\"count\", \"Major\"], ascending=[True, False])"
   ]
  },
  {
   "cell_type": "code",
   "execution_count": null,
   "id": "e66bd9cf",
   "metadata": {},
   "outputs": [],
   "source": [
    "major_hist.plot(y=\"count\", kind=\"barh\", legend=False)"
   ]
  },
  {
   "cell_type": "code",
   "execution_count": null,
   "id": "d73ae163",
   "metadata": {},
   "outputs": [],
   "source": [
    "\n",
    "# cribbed from here: https://matplotlib.org/stable/gallery/pie_and_polar_charts/pie_and_donut_labels.html\n",
    "# color_sequences selected to not have the start & end color the same\n",
    "# startangle selected to avoid overlap of major labels\n",
    "# figsize also helps with avoiding label overlap\n",
    "\n",
    "fig, ax = plt.subplots(figsize=(10, 10), subplot_kw=dict(aspect=\"equal\"))\n",
    "\n",
    "majors = major_hist.index.to_list()\n",
    "counts = major_hist[\"count\"].to_list()\n",
    "\n",
    "wedges, texts, pcts = ax.pie(\n",
    "    counts,\n",
    "    wedgeprops=dict(width=0.5),\n",
    "    startangle=-18,\n",
    "    colors = matplotlib.color_sequences[\"Set3\"],\n",
    "    autopct='%1.1f%%',\n",
    ")\n",
    "\n",
    "bbox_props = dict(boxstyle=\"square,pad=0.3\", fc=\"w\", ec=\"k\", lw=0.72)\n",
    "kw = dict(\n",
    "    arrowprops=dict(arrowstyle=\"-\"),\n",
    "    bbox=bbox_props,\n",
    "    zorder=0,\n",
    "    va=\"center\"\n",
    ")\n",
    "\n",
    "for i, p in enumerate(wedges):\n",
    "    ang = (p.theta2 - p.theta1)/2. + p.theta1\n",
    "    y = np.sin(np.deg2rad(ang))\n",
    "    x = np.cos(np.deg2rad(ang))\n",
    "    horizontalalignment = {-1: \"right\", 1: \"left\"}[int(np.sign(x))]\n",
    "    connectionstyle = f\"angle,angleA=0,angleB={ang}\"\n",
    "    kw[\"arrowprops\"].update({\"connectionstyle\": connectionstyle})\n",
    "    ax.annotate(\n",
    "        majors[i],\n",
    "        xy=(x, y),\n",
    "        xytext=(1.35*np.sign(x), 1.4*y),\n",
    "        horizontalalignment=horizontalalignment,\n",
    "        **kw\n",
    "    )\n",
    "\n",
    "# plt.show()\n",
    "plt.savefig(\"major_pie_chart.png\", bbox_inches=\"tight\")\n",
    "plt.close()"
   ]
  },
  {
   "cell_type": "code",
   "execution_count": null,
   "id": "1657ce4d",
   "metadata": {},
   "outputs": [],
   "source": [
    "print(\"number of students\", major_hist[\"count\"].sum())\n",
    "print(\"min percent:\", 100/major_hist[\"count\"].sum())"
   ]
  },
  {
   "cell_type": "code",
   "execution_count": null,
   "id": "95709552",
   "metadata": {},
   "outputs": [],
   "source": []
  }
 ],
 "metadata": {
  "kernelspec": {
   "display_name": "cse583",
   "language": "python",
   "name": "python3"
  },
  "language_info": {
   "codemirror_mode": {
    "name": "ipython",
    "version": 3
   },
   "file_extension": ".py",
   "mimetype": "text/x-python",
   "name": "python",
   "nbconvert_exporter": "python",
   "pygments_lexer": "ipython3",
   "version": "3.13.7"
  }
 },
 "nbformat": 4,
 "nbformat_minor": 5
}
